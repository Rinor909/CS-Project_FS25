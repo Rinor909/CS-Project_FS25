{
 "cells": [
  {
   "cell_type": "markdown",
   "metadata": {},
   "source": [
    "# Zurich Real Estate Price Prediction - Exploratory Data Analysis\n",
    "\n",
    "This notebook explores and analyzes the Zurich real estate datasets to better understand price patterns and generate insights for our machine learning model."
   ]
  },
  {
   "cell_type": "code",
   "execution_count": null,
   "metadata": {},
   "source": [
    "import pandas as pd\n",
    "import numpy as np\n",
    "import matplotlib.pyplot as plt\n",
    "import seaborn as sns\n",
    "import os\n",
    "\n",
    "# Set plot style\n",
    "plt.style.use('seaborn-v0_8-whitegrid')\n",
    "sns.set_palette('viridis')\n",
    "plt.rcParams['figure.figsize'] = (12, 6)\n",
    "plt.rcParams['font.size'] = 12"
   ]
  },
  {
   "cell_type": "markdown",
   "metadata": {},
   "source": [
    "## Load Data\n",
    "\n",
    "Let's load the raw CSV files and examine their structure."
   ]
  },
  {
   "cell_type": "code",
   "execution_count": null,
   "metadata": {},
   "source": [
    "# Load neighborhood dataset\n",
    "neighborhood_path = os.path.join('..', 'data', 'raw', 'bau515od5155.csv')\n",
    "neighborhood_df = pd.read_csv(neighborhood_path)\n",
    "\n",
    "# Display dataset info\n",
    "print(f\"Neighborhood dataset shape: {neighborhood_df.shape}\")\n",
    "neighborhood_df.head()"
   ]
  },
  {
   "cell_type": "code",
   "execution_count": null,
   "metadata": {},
   "source": [
    "# Load building age dataset\n",
    "building_age_path = os.path.join('..', 'data', 'raw', 'bau515od5156.csv')\n",
    "building_age_df = pd.read_csv(building_age_path)\n",
    "\n",
    "# Display dataset info\n",
    "print(f\"Building age dataset shape: {building_age_df.shape}\")\n",
    "building_age_df.head()"
   ]
  },
  {
   "cell_type": "markdown",
   "metadata": {},
   "source": [
    "## Initial Data Processing\n",
    "\n",
    "Let's rename the columns to make them more interpretable and filter for the data we need."
   ]
  },
  {
   "cell_type": "code",
   "execution_count": null,
   "metadata": {},
   "source": [
    "# Define column mapping for neighborhood data\n",
    "neighborhood_column_map = {\n",
    "    'Stichtagdatjahr': 'year',\n",
    "    'RaumLang': 'neighborhood',\n",
    "    'AnzZimmerLevel2Lang_noDM': 'room_count',\n",
    "    'HAMedianPreis': 'median_price',\n",
    "    'HAPreisWohnflaeche': 'price_per_sqm',\n",
    "    'HAArtLevel1Lang': 'property_type'\n",
    "}\n",
    "\n",
    "# Select needed columns and rename\n",
    "n_df = neighborhood_df.rename(columns=neighborhood_column_map)[list(neighborhood_column_map.values())]\n",
    "\n",
    "# Define column mapping for building age data\n",
    "building_age_column_map = {\n",
    "    'Stichtagdatjahr': 'year',\n",
    "    'BaualterLang_noDM': 'building_age',\n",
    "    'AnzZimmerLevel2Lang_noDM': 'room_count',\n",
    "    'HAMedianPreis': 'median_price',\n",
    "    'HAPreisWohnflaeche': 'price_per_sqm',\n",
    "    'HAArtLevel1Lang': 'property_type'\n",
    "}\n",
    "\n",
    "# Select needed columns and rename\n",
    "ba_df = building_age_df.rename(columns=building_age_column_map)[list(building_age_column_map.values())]\n",
    "\n",
    "# Filter for apartments (Wohnungen) only\n",
    "if 'property_type' in n_df.columns:\n",
    "    n_df = n_df[n_df['property_type'] == 'Wohnungen']\n",
    "    \n",
    "if 'property_type' in ba_df.columns:\n",
    "    ba_df = ba_df[ba_df['property_type'] == 'Wohnungen']\n",
    "\n",
    "# Convert price columns to numeric\n",
    "n_df['median_price'] = pd.to_numeric(n_df['median_price'], errors='coerce')\n",
    "n_df['price_per_sqm'] = pd.to_numeric(n_df['price_per_sqm'], errors='coerce')\n",
    "\n",
    "ba_df['median_price'] = pd.to_numeric(ba_df['median_price'], errors='coerce')\n",
    "ba_df['price_per_sqm'] = pd.to_numeric(ba_df['price_per_sqm'], errors='coerce')\n",
    "\n",
    "print(f\"Processed neighborhood data shape: {n_df.shape}\")\n",
    "n_df.head()"
   ]
  },
  {
   "cell_type": "code",
   "execution_count": null,
   "metadata": {},
   "source": [
    "print(f\"Processed building age data shape: {ba_df.shape}\")\n",
    "ba_df.head()"
   ]
  },
  {
   "cell_type": "markdown",
   "metadata": {},
   "source": [
    "## Data Overview and Summary\n",
    "\n",
    "Let's examine some basic statistics about our dataset."
   ]
  },
  {
   "cell_type": "code",
   "execution_count": null,
   "metadata": {},
   "source": [
    "# Check unique values in key categorical columns\n",
    "print(f\"Years in data: {sorted(n_df['year'].unique())}\")\n",
    "print(f\"Number of neighborhoods: {n_df['neighborhood'].nunique()}\")\n",
    "print(f\"Room count categories: {sorted(n_df['room_count'].unique())}\")\n",
    "print(f\"Building age categories: {sorted(ba_df['building_age'].unique())}\")"
   ]
  },
  {
   "cell_type": "markdown",
   "metadata": {},
   "source": [
    "## Price Distribution Analysis"
   ]
  },
  {
   "cell_type": "code",
   "execution_count": null,
   "metadata": {},
   "source": [
    "# Overall price distribution for the latest year\n",
    "latest_year = n_df['year'].max()\n",
    "latest_data = n_df[n_df['year'] == latest_year]\n",
    "\n",
    "plt.figure(figsize=(10, 6))\n",
    "sns.histplot(latest_data['median_price'].dropna(), kde=True, bins=30)\n",
    "plt.title(f'Distribution of Median Property Prices in Zurich ({latest_year})')\n",
    "plt.xlabel('Median Price (CHF)')\n",
    "plt.ylabel('Frequency')\n",
    "plt.grid(True)\n",
    "plt.show()"
   ]
  },
  {
   "cell_type": "code",
   "execution_count": null,
   "metadata": {},
   "source": [
    "# Price by room count\n",
    "plt.figure(figsize=(12, 6))\n",
    "sns.boxplot(x='room_count', y='median_price', data=latest_data)\n",
    "plt.title(f'Median Price by Room Count ({latest_year})')\n",
    "plt.xlabel('Room Count')\n",
    "plt.ylabel('Median Price (CHF)')\n",
    "plt.grid(True)\n",
    "plt.xticks(rotation=45)\n",
    "plt.tight_layout()\n",
    "plt.show()"
   ]
  },
  {
   "cell_type": "code",
   "execution_count": null,
   "metadata": {},
   "source": [
    "# Price by building age (from building age dataset)\n",
    "latest_ba_year = ba_df['year'].max()\n",
    "latest_ba_data = ba_df[ba_df['year'] == latest_ba_year]\n",
    "\n",
    "plt.figure(figsize=(14, 6))\n",
    "sns.boxplot(x='building_age', y='median_price', data=latest_ba_data)\n",
    "plt.title(f'Median Price by Building Age ({latest_ba_year})')\n",
    "plt.xlabel('Building Age')\n",
    "plt.ylabel('Median Price (CHF)')\n",
    "plt.grid(True)\n",
    "plt.xticks(rotation=45)\n",
    "plt.tight_layout()\n",
    "plt.show()"
   ]
  },
  {
   "cell_type": "markdown",
   "metadata": {},
   "source": [
    "## Price Trends Over Time"
   ]
  },
  {
   "cell_type": "code",
   "execution_count": null,
   "metadata": {},
   "source": [
    "# Calculate average prices by year\n",
    "yearly_prices = n_df.groupby('year')['median_price'].mean().reset_index()\n",
    "\n",
    "plt.figure(figsize=(12, 6))\n",
    "plt.plot(yearly_prices['year'], yearly_prices['median_price'], marker='o', linewidth=2)\n",
    "plt.title('Average Property Price Trend in Zurich (2009-2024)')\n",
    "plt.xlabel('Year')\n",
    "plt.ylabel('Average Median Price (CHF)')\n",
    "plt.grid(True)\n",
    "plt.xticks(yearly_prices['year'])\n",
    "plt.tight_layout()\n",
    "plt.show()"
   ]
  },
  {
   "cell_type": "code",
   "execution_count": null,
   "metadata": {},
   "source": [
    "# Price trends by room count\n",
    "room_count_trends = n_df.groupby(['year', 'room_count'])['median_price'].mean().reset_index()\n",
    "\n",
    "plt.figure(figsize=(14, 8))\n",
    "for room_count in sorted(room_count_trends['room_count'].unique()):\n",
    "    room_data = room_count_trends[room_count_trends['room_count'] == room_count]\n",
    "    plt.plot(room_data['year'], room_data['median_price'], marker='o', label=f'{room_count} rooms')\n",
    "\n",
    "plt.title('Price Trends by Room Count (2009-2024)')\n",
    "plt.xlabel('Year')\n",
    "plt.ylabel('Average Median Price (CHF)')\n",
    "plt.grid(True)\n",
    "plt.legend()\n",
    "plt.xticks(sorted(n_df['year'].unique()))\n",
    "plt.tight_layout()\n",
    "plt.show()"
   ]
  },
  {
   "cell_type": "markdown",
   "metadata": {},
   "source": [
    "## Neighborhood Analysis"
   ]
  },
  {
   "cell_type": "code",
   "execution_count": null,
   "metadata": {},
   "source": [
    "# Top 10 most expensive neighborhoods\n",
    "top_neighborhoods = latest_data.groupby('neighborhood')['median_price'].mean().sort_values(ascending=False).head(10)\n",
    "\n",
    "plt.figure(figsize=(14, 8))\n",
    "top_neighborhoods.plot(kind='bar')\n",
    "plt.title(f'Top 10 Most Expensive Neighborhoods in Zurich ({latest_year})')\n",
    "plt.xlabel('Neighborhood')\n",
    "plt.ylabel('Average Median Price (CHF)')\n",
    "plt.grid(True)\n",
    "plt.xticks(rotation=45)\n",
    "plt.tight_layout()\n",
    "plt.show()"
   ]
  },
  {
   "cell_type": "code",
   "execution_count": null,
   "metadata": {},
   "source": [
    "# Price per square meter by neighborhood\n",
    "if 'price_per_sqm' in latest_data.columns:\n",
    "    sqm_price = latest_data.groupby('neighborhood')['price_per_sqm'].mean().sort_values(ascending=False).head(10)\n",
    "    \n",
    "    plt.figure(figsize=(14, 8))\n",
    "    sqm_price.plot(kind='bar')\n",
    "    plt.title(f'Top 10 Neighborhoods by Price per Square Meter ({latest_year})')\n",
    "    plt.xlabel('Neighborhood')\n",
    "    plt.ylabel('Average Price per Square Meter (CHF)')\n",
    "    plt.grid(True)\n",
    "    plt.xticks(rotation=45)\n",
    "    plt.tight_layout()\n",
    "    plt.show()"
   ]
  },
  {
   "cell_type": "markdown",
   "metadata": {},
   "source": [
    "## Room Count Analysis"
   ]
  },
  {
   "cell_type": "code",
   "execution_count": null,
   "metadata": {},
   "source": [
    "# Price per square meter by room count\n",
    "if 'price_per_sqm' in latest_data.columns:\n",
    "    room_sqm_price = latest_data.groupby('room_count')['price_per_sqm'].mean().sort_values(ascending=False)\n",
    "    \n",
    "    plt.figure(figsize=(12, 6))\n",
    "    room_sqm_price.plot(kind='bar')\n",
    "    plt.title(f'Price per Square Meter by Room Count ({latest_year})')\n",
    "    plt.xlabel('Room Count')\n",
    "    plt.ylabel('Average Price per Square Meter (CHF)')\n",
    "    plt.grid(True)\n",
    "    plt.tight_layout()\n",
    "    plt.show()"
   ]
  },
  {
   "cell_type": "markdown",
   "metadata": {},
   "source": [
    "## Building Age Analysis"
   ]
  },
  {
   "cell_type": "code",
   "execution_count": null,
   "metadata": {},
   "source": [
    "# Price trends by building age\n",
    "age_trends = ba_df.groupby(['year', 'building_age'])['median_price'].mean().reset_index()\n",
    "\n",
    "plt.figure(figsize=(14, 8))\n",
    "for age in sorted(age_trends['building_age'].unique()):\n",
    "    age_data = age_trends[age_trends['building_age'] == age]\n",
    "    plt.plot(age_data['year'], age_data['median_price'], marker='o', label=age)\n",
    "\n",
    "plt.title('Price Trends by Building Age (2009-2024)')\n",
    "plt.xlabel('Year')\n",
    "plt.ylabel('Average Median Price (CHF)')\n",
    "plt.grid(True)\n",
    "plt.legend(bbox_to_anchor=(1.05, 1), loc='upper left')\n",
    "plt.xticks(sorted(ba_df['year'].unique()))\n",
    "plt.tight_layout()\n",
    "plt.show()"
   ]
  },
  {
   "cell_type": "markdown",
   "metadata": {},
   "source": [
    "## Correlation Analysis"
   ]
  },
  {
   "cell_type": "code",
   "execution_count": null,
   "metadata": {},
   "source": [
    "# Scatterplot of median price vs price per square meter\n",
    "if 'price_per_sqm' in latest_data.columns:\n",
    "    plt.figure(figsize=(10, 8))\n",
    "    sns.scatterplot(x='price_per_sqm', y='median_price', hue='room_count', data=latest_data)\n",
    "    plt.title(f'Correlation: Median Price vs Price per Square Meter ({latest_year})')\n",
    "    plt.xlabel('Price per Square Meter (CHF)')\n",
    "    plt.ylabel('Median Price (CHF)')\n",
    "    plt.grid(True)\n",
    "    plt.legend(title='Room Count')\n",
    "    plt.tight_layout()\n",
    "    plt.show()"
   ]
  },
  {
   "cell_type": "markdown",
   "metadata": {},
   "source": [
    "## Conclusions and Insights\n",
    "\n",
    "Based on our exploratory data analysis, we can draw the following insights:\n",
    "\n",
    "1. Price trends: [To be completed after running the analysis]\n",
    "2. Neighborhood impact: [To be completed after running the analysis]\n",
    "3. Room count effect: [To be completed after running the analysis]\n",
    "4. Building age correlation: [To be completed after running the analysis]\n",
    "\n",
    "These insights will guide our machine learning model development to predict real estate prices in Zurich."
   ]
  }
 ],
 "metadata": {
  "kernelspec": {
   "display_name": "Python 3",
   "language": "python",
   "name": "python3"
  },
  "language_info": {
   "codemirror_mode": {
    "name": "ipython",
    "version": 3
   },
   "file_extension": ".py",
   "mimetype": "text/x-python",
   "name": "python",
   "nbconvert_exporter": "python",
   "pygments_lexer": "ipython3",
   "version": "3.11.0"
  }
 },
 "nbformat": 4,
 "nbformat_minor": 4
}
