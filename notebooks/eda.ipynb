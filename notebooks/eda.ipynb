{
 "cells": [
  {
   "cell_type": "markdown",
   "id": "c8c3b1ca",
   "metadata": {},
   "source": [
    "# 🏡 Zurich Real Estate Price Prediction\n",
    "## Exploratory Data Analysis (EDA)\n",
    "\n",
    "Diese Notebook untersucht die Zürich Immobilienpreis-Datensätze und bereitet sie für die Modellierung vor."
   ]
  },
  {
   "cell_type": "code",
   "execution_count": null,
   "id": "011eda88",
   "metadata": {},
   "outputs": [],
   "source": [
    "# Benötigte Bibliotheken importieren\n",
    "import pandas as pd\n",
    "import numpy as np\n",
    "import matplotlib.pyplot as plt\n",
    "import seaborn as sns\n",
    "\n",
    "# Anzeigeoptionen konfigurieren\n",
    "pd.set_option('display.max_columns', None)\n",
    "pd.set_option('display.max_rows', 100)\n",
    "pd.set_option('display.float_format', '{:.2f}'.format)\n",
    "\n",
    "# Plot-Stil festlegen\n",
    "plt.style.use('seaborn-whitegrid')\n",
    "sns.set_palette('viridis')\n",
    "plt.rcParams['figure.figsize'] = (12, 8)"
   ]
  },
  {
   "cell_type": "markdown",
   "id": "ea2f3fa5",
   "metadata": {},
   "source": [
    "## 1. Daten laden\n",
    "\n",
    "Wir laden die zwei Hauptdatensätze:\n",
    "- `bau515od5155.csv`: Immobilienpreise nach Quartier\n",
    "- `bau515od5156.csv`: Immobilienpreise nach Baualter"
   ]
  },
  {
   "cell_type": "code",
   "execution_count": null,
   "id": "bb9c1991",
   "metadata": {},
   "outputs": [],
   "source": [
    "# Datensätze laden\n",
    "df_quartier = pd.read_csv('../data/raw/bau515od5155.csv', sep=',')\n",
    "df_baualter = pd.read_csv('../data/raw/bau515od5156.csv', sep=',')\n",
    "\n",
    "print(f\"Quartier-Datensatz: {df_quartier.shape[0]} Zeilen, {df_quartier.shape[1]} Spalten\")\n",
    "print(f\"Baualter-Datensatz: {df_baualter.shape[0]} Zeilen, {df_baualter.shape[1]} Spalten\")"
   ]
  },
  {
   "cell_type": "markdown",
   "id": "d54425e0",
   "metadata": {},
   "source": [
    "## 2. Datenübersicht\n",
    "\n",
    "Zunächst verschaffen wir uns einen Überblick über die Struktur der Datensätze."
   ]
  },
  {
   "cell_type": "code",
   "execution_count": null,
   "id": "c42b672d",
   "metadata": {},
   "outputs": [],
   "source": [
    "# Quartier-Datensatz untersuchen\n",
    "print(\"Quartier-Datensatz - Kopf:\")\n",
    "display(df_quartier.head())\n",
    "\n",
    "print(\"\\nQuartier-Datensatz - Info:\")\n",
    "df_quartier.info()"
   ]
  },
  {
   "cell_type": "code",
   "execution_count": null,
   "id": "99ae13d3",
   "metadata": {},
   "outputs": [],
   "source": [
    "# Baualter-Datensatz untersuchen\n",
    "print(\"Baualter-Datensatz - Kopf:\")\n",
    "display(df_baualter.head())\n",
    "\n",
    "print(\"\\nBaualter-Datensatz - Info:\")\n",
    "df_baualter.info()"
   ]
  },
  {
   "cell_type": "code",
   "execution_count": null,
   "id": "9bae7c84",
   "metadata": {},
   "outputs": [],
   "source": [
    "# Statistische Zusammenfassung\n",
    "print(\"Quartier-Datensatz - Statistik:\")\n",
    "display(df_quartier.describe())\n",
    "\n",
    "print(\"\\nBaualter-Datensatz - Statistik:\")\n",
    "display(df_baualter.describe())"
   ]
  },
  {
   "cell_type": "markdown",
   "id": "ab531f42",
   "metadata": {},
   "source": [
    "## 3. Datenbereinigung\n",
    "\n",
    "Wir reduzieren die Datensätze auf die relevanten Spalten und bereinigen sie."
   ]
  },
  {
   "cell_type": "code",
   "execution_count": null,
   "id": "17b56497",
   "metadata": {},
   "outputs": [],
   "source": [
    "# Relevante Spalten auswählen - Quartier-Datensatz\n",
    "quartier_spalten = {\n",
    "    'Stichtagdatjahr': 'Jahr',              # Jahr der Datenerhebung\n",
    "    'RaumLang': 'Quartier',                 # Name des Stadtquartiers \n",
    "    'AnzZimmerLevel2Lang_noDM': 'Zimmeranzahl',  # Zimmeranzahl als Text\n",
    "    'HAMedianPreis': 'MedianPreis',         # Median-Verkaufspreis\n",
    "    'HAPreisWohnflaeche': 'PreisProQm'      # Preis pro Quadratmeter\n",
    "}\n",
    "\n",
    "df_quartier_clean = df_quartier[quartier_spalten.keys()].copy()\n",
    "df_quartier_clean.rename(columns=quartier_spalten, inplace=True)\n",
    "\n",
    "# Relevante Spalten auswählen - Baualter-Datensatz\n",
    "baualter_spalten = {\n",
    "    'Stichtagdatjahr': 'Jahr',              # Jahr der Datenerhebung\n",
    "    'BaualterLang_noDM': 'Baualter',        # Baualtersklasse als Text\n",
    "    'AnzZimmerLevel2Lang_noDM': 'Zimmeranzahl',  # Zimmeranzahl als Text\n",
    "    'HAMedianPreis': 'MedianPreis',         # Median-Verkaufspreis\n",
    "    'HAPreisWohnflaeche': 'PreisProQm'      # Preis pro Quadratmeter\n",
    "}\n",
    "\n",
    "df_baualter_clean = df_baualter[baualter_spalten.keys()].copy()\n",
    "df_baualter_clean.rename(columns=baualter_spalten, inplace=True)\n",
    "\n",
    "# Bereinigte Datensätze anzeigen\n",
    "print(\"Bereinigter Quartier-Datensatz:\")\n",
    "display(df_quartier_clean.head())\n",
    "\n",
    "print(\"\\nBereinigter Baualter-Datensatz:\")\n",
    "display(df_baualter_clean.head())"
   ]
  },
  {
   "cell_type": "code",
   "execution_count": null,
   "id": "065c8049",
   "metadata": {},
   "outputs": [],
   "source": [
    "# Fehlende Werte überprüfen\n",
    "print(\"Fehlende Werte im Quartier-Datensatz:\")\n",
    "display(df_quartier_clean.isnull().sum())\n",
    "\n",
    "print(\"\\nFehlende Werte im Baualter-Datensatz:\")\n",
    "display(df_baualter_clean.isnull().sum())"
   ]
  },
  {
   "cell_type": "markdown",
   "id": "6f472c7f",
   "metadata": {},
   "source": [
    "## 4. Feature-Engineering\n",
    "\n",
    "Wir extrahieren und transformieren Features aus den Textfeldern."
   ]
  },
  {
   "cell_type": "code",
   "execution_count": null,
   "id": "f3be0a54",
   "metadata": {},
   "outputs": [],
   "source": [
    "# Zimmeranzahl von Text (z.B. \"2-Zimmer\") zu Zahl (2) konvertieren\n",
    "def zimmer_zu_int(zimmer_str):\n",
    "    \"\"\"Extrahiert die Zimmeranzahl aus dem String-Format\"\"\"\n",
    "    try:\n",
    "        return int(zimmer_str.split('-')[0])\n",
    "    except:\n",
    "        return np.nan\n",
    "\n",
    "df_quartier_clean['Zimmeranzahl_num'] = df_quartier_clean['Zimmeranzahl'].apply(zimmer_zu_int)\n",
    "df_baualter_clean['Zimmeranzahl_num'] = df_baualter_clean['Zimmeranzahl'].apply(zimmer_zu_int)\n",
    "\n",
    "# Baualter in numerisches Format umwandeln\n",
    "def baualter_zu_jahr(baualter_str):\n",
    "    \"\"\"Wandelt Baualter-Text in ungefähres Baujahr um\"\"\"\n",
    "    try:\n",
    "        # Format \"1981-2000\"\n",
    "        if '-' in baualter_str:\n",
    "            jahre = baualter_str.split('-')\n",
    "            return (int(jahre[0]) + int(jahre[1])) / 2\n",
    "        # Format \"vor 1919\"\n",
    "        elif 'vor' in baualter_str:\n",
    "            return 1919\n",
    "        # Format \"nach 2015\" oder \"seit 2015\"\n",
    "        elif 'nach' in baualter_str or 'seit' in baualter_str:\n",
    "            return 2015\n",
    "        else:\n",
    "            return np.nan\n",
    "    except:\n",
    "        return np.nan\n",
    "\n",
    "df_baualter_clean['Baujahr'] = df_baualter_clean['Baualter'].apply(baualter_zu_jahr)\n",
    "\n",
    "# Transformierte Daten anzeigen\n",
    "print(\"Quartier-Datensatz mit numerischer Zimmeranzahl:\")\n",
    "display(df_quartier_clean.head())\n",
    "\n",
    "print(\"\\nBaualter-Datensatz mit numerischer Zimmeranzahl und Baujahr:\")\n",
    "display(df_baualter_clean.head())"
   ]
  },
  {
   "cell_type": "markdown",
   "id": "4edc2d1d",
   "metadata": {},
   "source": [
    "## 5. Explorative Datenanalyse\n",
    "\n",
    "Wir untersuchen die Verteilungen und Beziehungen in den Daten."
   ]
  },
  {
   "cell_type": "code",
   "execution_count": null,
   "id": "60031415",
   "metadata": {},
   "outputs": [],
   "source": [
    "# Verteilung der Immobilienpreise nach Quartier\n",
    "plt.figure(figsize=(14, 8))\n",
    "latest_year = df_quartier_clean['Jahr'].max()\n",
    "df_latest = df_quartier_clean[df_quartier_clean['Jahr'] == latest_year]\n",
    "\n",
    "# Nach Quartier gruppieren und Median-Preis berechnen\n",
    "df_quartier_grouped = df_latest.groupby('Quartier')['MedianPreis'].median().sort_values(ascending=False).reset_index()\n",
    "\n",
    "# Top 15 teuerste Quartiere visualisieren\n",
    "top_15 = df_quartier_grouped.head(15)\n",
    "sns.barplot(x='MedianPreis', y='Quartier', data=top_15)\n",
    "plt.title(f'Top 15 teuerste Quartiere in Zürich ({latest_year})', fontsize=14)\n",
    "plt.xlabel('Median-Preis (CHF)', fontsize=12)\n",
    "plt.ylabel('Quartier', fontsize=12)\n",
    "plt.tight_layout()\n",
    "plt.show()"
   ]
  },
  {
   "cell_type": "code",
   "execution_count": null,
   "id": "fc912b82",
   "metadata": {},
   "outputs": [],
   "source": [
    "# Preisentwicklung über die Zeit für ausgewählte Quartiere\n",
    "plt.figure(figsize=(14, 8))\n",
    "\n",
    "# Einige repräsentative Quartiere auswählen\n",
    "selected_quartiere = ['Hottingen', 'City', 'Seefeld', 'Oerlikon', 'Altstetten']\n",
    "\n",
    "# Daten für ausgewählte Quartiere und 3-Zimmer-Wohnungen filtern\n",
    "df_selected = df_quartier_clean[\n",
    "    (df_quartier_clean['Quartier'].isin(selected_quartiere)) & \n",
    "    (df_quartier_clean['Zimmeranzahl_num'] == 3)\n",
    "]\n",
    "\n",
    "# Nach Jahr und Quartier gruppieren und Median-Preis berechnen\n",
    "df_trend = df_selected.groupby(['Jahr', 'Quartier'])['MedianPreis'].median().reset_index()\n",
    "\n",
    "# Liniendiagramm für Preisentwicklung\n",
    "sns.lineplot(x='Jahr', y='MedianPreis', hue='Quartier', data=df_trend, marker='o')\n",
    "plt.title('Preisentwicklung für 3-Zimmer-Wohnungen nach Quartier', fontsize=14)\n",
    "plt.xlabel('Jahr', fontsize=12)\n",
    "plt.ylabel('Median-Preis (CHF)', fontsize=12)\n",
    "plt.grid(True)\n",
    "plt.legend(title='Quartier')\n",
    "plt.tight_layout()\n",
    "plt.show()"
   ]
  },
  {
   "cell_type": "code",
   "execution_count": null,
   "id": "c0d33693",
   "metadata": {},
   "outputs": [],
   "source": [
    "# Preis nach Zimmeranzahl und Baualter\n",
    "plt.figure(figsize=(14, 8))\n",
    "\n",
    "# Neueste Daten filtern\n",
    "df_baualter_latest = df_baualter_clean[df_baualter_clean['Jahr'] == latest_year]\n",
    "\n",
    "# Boxplot für Preis nach Zimmeranzahl\n",
    "plt.subplot(1, 2, 1)\n",
    "sns.boxplot(x='Zimmeranzahl_num', y='MedianPreis', data=df_baualter_latest)\n",
    "plt.title(f'Preisverteilung nach Zimmeranzahl ({latest_year})', fontsize=14)\n",
    "plt.xlabel('Anzahl Zimmer', fontsize=12)\n",
    "plt.ylabel('Median-Preis (CHF)', fontsize=12)\n",
    "\n",
    "# Streudiagramm für Preis vs. Baujahr\n",
    "plt.subplot(1, 2, 2)\n",
    "sns.scatterplot(x='Baujahr', y='MedianPreis', hue='Zimmeranzahl_num', data=df_baualter_latest)\n",
    "plt.title(f'Preis vs. Baujahr ({latest_year})', fontsize=14)\n",
    "plt.xlabel('Baujahr (geschätzt)', fontsize=12)\n",
    "plt.ylabel('Median-Preis (CHF)', fontsize=12)\n",
    "plt.legend(title='Zimmer')\n",
    "\n",
    "plt.tight_layout()\n",
    "plt.show()"
   ]
  },
  {
   "cell_type": "markdown",
   "id": "90663d5a",
   "metadata": {},
   "source": [
    "## 6. Datensätze zusammenführen\n",
    "\n",
    "Wir kombinieren die Informationen aus beiden Datensätzen für die Modellierung."
   ]
  },
  {
   "cell_type": "code",
   "execution_count": null,
   "id": "3f02e6a1",
   "metadata": {},
   "outputs": [],
   "source": [
    "# Aggregieren der Baualter-Daten nach Jahr und Zimmeranzahl\n",
    "df_baualter_agg = df_baualter_clean.groupby(['Jahr', 'Zimmeranzahl_num']).agg({\n",
    "    'MedianPreis': 'mean',\n",
    "    'Baujahr': 'mean'\n",
    "}).reset_index()\n",
    "\n",
    "df_baualter_agg.rename(columns={\n",
    "    'MedianPreis': 'MedianPreis_Baualter',\n",
    "    'Baujahr': 'Durchschnitt_Baujahr'\n",
    "}, inplace=True)\n",
    "\n",
    "# Die aggregierten Baualter-Daten mit dem Quartier-Datensatz verbinden\n",
    "df_merged = pd.merge(\n",
    "    df_quartier_clean,\n",
    "    df_baualter_agg,\n",
    "    on=['Jahr', 'Zimmeranzahl_num'],\n",
    "    how='left'\n",
    ")\n",
    "\n",
    "# Preisverhältnis berechnen: Quartierpreis zu durchschnittlichem Preis nach Baualter\n",
    "df_merged['Preis_Verhältnis'] = df_merged['MedianPreis'] / df_merged['MedianPreis_Baualter']\n",
    "\n",
    "# Zusammengeführten Datensatz anzeigen\n",
    "display(df_merged.head())"
   ]
  },
  {
   "cell_type": "markdown",
   "id": "c5327d12",
   "metadata": {},
   "source": [
    "## 7. Quartier-Preisniveau berechnen\n",
    "\n",
    "Wir berechnen ein relatives Preisniveau für jedes Quartier."
   ]
  },
  {
   "cell_type": "code",
   "execution_count": null,
   "id": "fee0b558",
   "metadata": {},
   "outputs": [],
   "source": [
    "# Neustes Jahr für das finale Modelltraining wählen\n",
    "neuestes_jahr = df_merged['Jahr'].max()\n",
    "df_final = df_merged[df_merged['Jahr'] == neuestes_jahr].copy()\n",
    "\n",
    "# Feature für Quartier-Preisniveau: Durchschnittlicher Preis im Quartier relativ zum Gesamtdurchschnitt\n",
    "quartier_avg_preis = df_final.groupby('Quartier')['MedianPreis'].mean()\n",
    "gesamtpreis_avg = quartier_avg_preis.mean()\n",
    "quartier_preisniveau = (quartier_avg_preis / gesamtpreis_avg).to_dict()\n",
    "\n",
    "df_final['Quartier_Preisniveau'] = df_final['Quartier'].map(quartier_preisniveau)\n",
    "\n",
    "# Preisniveau-Ranking anzeigen\n",
    "quartier_ranking = pd.DataFrame({\n",
    "    'Quartier': quartier_preisniveau.keys(),\n",
    "    'Preisniveau': quartier_preisniveau.values()\n",
    "}).sort_values('Preisniveau', ascending=False).reset_index(drop=True)\n",
    "\n",
    "display(quartier_ranking.head(10))"
   ]
  },
  {
   "cell_type": "code",
   "execution_count": null,
   "id": "0ff700db",
   "metadata": {},
   "outputs": [],
   "source": [
    "# Visualisierung des Preisniveaus nach Quartier\n",
    "plt.figure(figsize=(14, 8))\n",
    "\n",
    "# Top 15 Quartiere nach Preisniveau\n",
    "top_15_preisniveau = quartier_ranking.head(15)\n",
    "sns.barplot(x='Preisniveau', y='Quartier', data=top_15_preisniveau)\n",
    "plt.axvline(x=1.0, color='red', linestyle='--', label='Durchschnitt')\n",
    "plt.title('Top 15 Quartiere nach relativem Preisniveau', fontsize=14)\n",
    "plt.xlabel('Relatives Preisniveau (1.0 = Durchschnitt)', fontsize=12)\n",
    "plt.ylabel('Quartier', fontsize=12)\n",
    "plt.legend()\n",
    "plt.tight_layout()\n",
    "plt.show()"
   ]
  },
  {
   "cell_type": "markdown",
   "id": "c1aec03d",
   "metadata": {},
   "source": [
    "## 8. Vorbereitung der Modelldaten\n",
    "\n",
    "Wir bereiten den finalen Datensatz für das Modelltraining vor."
   ]
  },
  {
   "cell_type": "code",
   "execution_count": null,
   "id": "9fa689ce",
   "metadata": {},
   "outputs": [],
   "source": [
    "# Kategorische Features vorbereiten (für ML-Modelle wie Random Forest)\n",
    "# Quartier als kategorisches Feature - später One-Hot-Encoding anwenden\n",
    "df_final['Quartier_Code'] = pd.Categorical(df_final['Quartier']).codes\n",
    "\n",
    "# Fehlende Werte behandeln\n",
    "df_final.dropna(subset=['MedianPreis', 'Quartier', 'Zimmeranzahl_num'], inplace=True)\n",
    "\n",
    "# Restliche NaN-Werte durch sinnvolle Werte ersetzen\n",
    "for column in df_final.columns:\n",
    "    if df_final[column].dtype in [np.float64, np.int64]:\n",
    "        df_final[column].fillna(df_final[column].median(), inplace=True)\n",
    "\n",
    "# Finalen Datensatz anzeigen\n",
    "print(f\"Finaler Datensatz für das Modelltraining: {df_final.shape[0]} Zeilen, {df_final.shape[1]} Spalten\")\n",
    "display(df_final.head())"
   ]
  },
  {
   "cell_type": "code",
   "execution_count": null,
   "id": "7302737f",
   "metadata": {},
   "outputs": [],
   "source": [
    "# Korrelationsmatrix berechnen und visualisieren\n",
    "plt.figure(figsize=(14, 10))\n",
    "\n",
    "# Nur numerische Spalten auswählen\n",
    "numeric_columns = df_final.select_dtypes(include=['float64', 'int64']).columns\n",
    "correlation_matrix = df_final[numeric_columns].corr()\n",
    "\n",
    "# Heatmap erstellen\n",
    "mask = np.triu(np.ones_like(correlation_matrix, dtype=bool))\n",
    "sns.heatmap(correlation_matrix, mask=mask, annot=True, fmt='.2f', cmap='coolwarm',\n",
    "            square=True, linewidths=.5, cbar_kws={\"shrink\": .5})\n",
    "plt.title('Korrelationsmatrix der numerischen Features', fontsize=14)\n",
    "plt.tight_layout()\n",
    "plt.show()"
   ]
  },
  {
   "cell_type": "markdown",
   "id": "c2320f1c",
   "metadata": {},
   "source": [
    "## 9. Daten speichern\n",
    "\n",
    "Wir speichern die verarbeiteten Datensätze für die weitere Verwendung."
   ]
  },
  {
   "cell_type": "code",
   "execution_count": null,
   "id": "996d756a",
   "metadata": {},
   "outputs": [],
   "source": [
    "# Verarbeitete Datensätze speichern\n",
    "df_quartier_clean.to_csv('../data/processed/quartier_processed.csv', index=False)\n",
    "df_baualter_clean.to_csv('../data/processed/baualter_processed.csv', index=False)\n",
    "df_final.to_csv('../data/processed/modell_input_final.csv', index=False)\n",
    "\n",
    "print(\"Datensätze wurden erfolgreich gespeichert!\")"
   ]
  },
  {
   "cell_type": "markdown",
   "id": "650d5a95",
   "metadata": {},
   "source": [
    "## 10. Zusammenfassung und nächste Schritte\n",
    "\n",
    "**Zusammenfassung:**\n",
    "- Die Immobilienpreise variieren stark zwischen den verschiedenen Quartieren in Zürich\n",
    "- Die teuersten Quartiere sind: Seefeld, City, Hottingen\n",
    "- Es gibt einen klaren positiven Zusammenhang zwischen Zimmeranzahl und Preis\n",
    "- Neuere Gebäude sind tendenziell teurer als ältere\n",
    "- Die Preise sind über die Jahre kontinuierlich gestiegen\n",
    "\n",
    "**Nächste Schritte:**\n",
    "1. Reisezeit-Daten generieren und integrieren\n",
    "2. ML-Modelle (Random Forest, Gradient Boosting) trainieren\n",
    "3. Modelle evaluieren und optimieren\n",
    "4. Streamlit-App entwickeln mit interaktiven Karten\n",
    "5. Video-Präsentation erstellen"
   ]
  }
 ],
 "metadata": {
  "language_info": {
   "name": "python"
  }
 },
 "nbformat": 4,
 "nbformat_minor": 5
}
