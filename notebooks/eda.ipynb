{
 "cells": [
  {
   "cell_type": "markdown",
   "metadata": {},
   "source": [
    "# Exploratory Data Analysis for Zurich Real Estate Price Prediction\n",
    "\n",
    "This notebook explores the datasets used for the Zurich Real Estate Price Prediction project.\n",
    "\n",
    "**Datasets:**\n",
    "1. Property Prices by Neighborhood (bau515od5155.csv)\n",
    "2. Property Prices by Building Age (bau515od5156.csv)\n",
    "3. Travel Time Data (to be generated)\n",
    "\n",
    "**Owner:** Matthieu (Primary), Anna (Support)"
   ]
  },
  {
   "cell_type": "code",
   "execution_count": null,
   "metadata": {},
   "source": [
    "# Import necessary libraries\n",
    "import pandas as pd\n",
    "import numpy as np\n",
    "import matplotlib.pyplot as plt\n",
    "import seaborn as sns\n",
    "import os\n",
    "from datetime import datetime\n",
    "\n",
    "# Set plot style\n",
    "plt.style.use('ggplot')\n",
    "sns.set(style=\"whitegrid\")\n",
    "\n",
    "# Display settings\n",
    "pd.set_option('display.max_columns', None)\n",
    "pd.set_option('display.expand_frame_repr', False)"
   ]
  },
  {
   "cell_type": "markdown",
   "metadata": {},
   "source": [
    "## 1. Load Data"
   ]
  },
  {
   "cell_type": "code",
   "execution_count": null,
   "metadata": {},
   "source": [
    "# Define file paths\n",
    "DATA_DIR = \"../data/raw\"\n",
    "NEIGHBORHOOD_DATA = \"bau515od5155.csv\"\n",
    "BUILDING_AGE_DATA = \"bau515od5156.csv\"\n",
    "\n",
    "# Load neighborhood data\n",
    "neighborhood_path = os.path.join(DATA_DIR, NEIGHBORHOOD_DATA)\n",
    "neighborhood_df = pd.read_csv(neighborhood_path)\n",
    "print(f\"Loaded neighborhood data with {neighborhood_df.shape[0]} rows and {neighborhood_df.shape[1]} columns\")\n",
    "\n",
    "# Load building age data\n",
    "building_age_path = os.path.join(DATA_DIR, BUILDING_AGE_DATA)\n",
    "building_age_df = pd.read_csv(building_age_path)\n",
    "print(f\"Loaded building age data with {building_age_df.shape[0]} rows and {building_age_df.shape[1]} columns\")"
   ]
  },
  {
   "cell_type": "markdown",
   "metadata": {},
   "source": [
    "## 2. Examine Neighborhood Data"
   ]
  },
  {
   "cell_type": "code",
   "execution_count": null,
   "metadata": {},
   "source": [
    "# Display first few rows of neighborhood data\n",
    "print(\"First 5 rows of neighborhood data:\")\n",
    "neighborhood_df.head()"
   ]
  },
  {
   "cell_type": "code",
   "execution_count": null,
   "metadata": {},
   "source": [
    "# Check data types and missing values\n",
    "print(\"\\nNeighborhood data types:\")\n",
    "neighborhood_df.info()"
   ]
  },
  {
   "cell_type": "code",
   "execution_count": null,
   "metadata": {},
   "source": [
    "# Check for missing values\n",
    "print(\"\\nMissing values in neighborhood data:\")\n",
    "neighborhood_df.isnull().sum()"
   ]
  },
  {
   "cell_type": "code",
   "execution_count": null,
   "metadata": {},
   "source": [
    "# TODO: Examine the RaumLang column to identify neighborhoods\n",
    "print(\"\\nUnique values in RaumLang (neighborhoods):\")\n",
    "print(neighborhood_df['RaumLang'].unique())"
   ]
  },
  {
   "cell_type": "code",
   "execution_count": null,
   "metadata": {},
   "source": [
    "# TODO: Check the distribution of neighborhoods\n",
    "neighborhood_counts = neighborhood_df['RaumLang'].value_counts()\n",
    "print(\"\\nNeighborhood counts:\")\n",
    "neighborhood_counts"
   ]
  },
  {
   "cell_type": "code",
   "execution_count": null,
   "metadata": {},
   "source": [
    "# TODO: Analyze price distribution by neighborhood\n",
    "# This will depend on the actual structure of the dataset\n",
    "# For now, we'll assume HAMedianPreis is the median price column\n",
    "\n",
    "# Group by neighborhood and calculate average median price\n",
    "neighborhood_prices = neighborhood_df.groupby('RaumLang')['HAMedianPreis'].mean().sort_values(ascending=False)\n",
    "\n",
    "# Plot neighborhood prices\n",
    "plt.figure(figsize=(12, 8))\n",
    "neighborhood_prices.plot(kind='bar')\n",
    "plt.title('Average Median Property Price by Neighborhood')\n",
    "plt.xlabel('Neighborhood')\n",
    "plt.ylabel('Price (CHF)')\n",
    "plt.xticks(rotation=45, ha='right')\n",
    "plt.tight_layout()\n",
    "plt.show()"
   ]
  },
  {
   "cell_type": "markdown",
   "metadata": {},
   "source": [
    "## 3. Examine Building Age Data"
   ]
  },
  {
   "cell_type": "code",
   "execution_count": null,
   "metadata": {},
   "source": [
    "# Display first few rows of building age data\n",
    "print(\"First 5 rows of building age data:\")\n",
    "building_age_df.head()"
   ]
  },
  {
   "cell_type": "code",
   "execution_count": null,
   "metadata": {},
   "source": [
    "# Check data types and missing values\n",
    "print(\"\\nBuilding age data types:\")\n",
    "building_age_df.info()"
   ]
  },
  {
   "cell_type": "code",
   "execution_count": null,
   "metadata": {},
   "source": [
    "# Check for missing values\n",
    "print(\"\\nMissing values in building age data:\")\n",
    "building_age_df.isnull().sum()"
   ]
  },
  {
   "cell_type": "code",
   "execution_count": null,
   "metadata": {},
   "source": [
    "# TODO: Examine the BaualterLang_noDM column to identify building age categories\n",
    "print(\"\\nUnique values in BaualterLang_noDM (building age categories):\")\n",
    "print(building_age_df['BaualterLang_noDM'].unique())"
   ]
  },
  {
   "cell_type": "code",
   "execution_count": null,
   "metadata": {},
   "source": [
    "# TODO: Analyze price distribution by building age\n",
    "# This will depend on the actual structure of the dataset\n",
    "# For now, we'll assume HAMedianPreis is the median price column\n",
    "\n",
    "# Group by building age and calculate average median price\n",
    "age_prices = building_age_df.groupby('BaualterLang_noDM')['HAMedianPreis'].mean().sort_values(ascending=False)\n",
    "\n",
    "# Plot building age prices\n",
    "plt.figure(figsize=(12, 6))\n",
    "age_prices.plot(kind='bar')\n",
    "plt.title('Average Median Property Price by Building Age')\n",
    "plt.xlabel('Building Age')\n",
    "plt.ylabel('Price (CHF)')\n",
    "plt.xticks(rotation=45, ha='right')\n",
    "plt.tight_layout()\n",
    "plt.show()"
   ]
  },
  {
   "cell_type": "markdown",
   "metadata": {},
   "source": [
    "## 4. Examine Room Count Distribution"
   ]
  },
  {
   "cell_type": "code",
   "execution_count": null,
   "metadata": {},
   "source": [
    "# TODO: Examine the AnzZimmerLevel2Lang_noDM column for room counts\n",
    "print(\"\\nUnique values in AnzZimmerLevel2Lang_noDM (room counts):\")\n",
    "print(neighborhood_df['AnzZimmerLevel2Lang_noDM'].unique())"
   ]
  },
  {
   "cell_type": "code",
   "execution_count": null,
   "metadata": {},
   "source": [
    "# TODO: Analyze price distribution by room count\n",
    "# Group by room count and calculate average median price\n",
    "room_prices = neighborhood_df.groupby('AnzZimmerLevel2Lang_noDM')['HAMedianPreis'].mean().sort_values(ascending=False)\n",
    "\n",
    "# Plot room count prices\n",
    "plt.figure(figsize=(10, 6))\n",
    "room_prices.plot(kind='bar')\n",
    "plt.title('Average Median Property Price by Room Count')\n",
    "plt.xlabel('Room Count')\n",
    "plt.ylabel('Price (CHF)')\n",
    "plt.tight_layout()\n",
    "plt.show()"
   ]
  },
  {
   "cell_type": "markdown",
   "metadata": {},
   "source": [
    "## 5. Time Series Analysis"
   ]
  },
  {
   "cell_type": "code",
   "execution_count": null,
   "metadata": {},
   "source": [
    "# TODO: Analyze price trends over time (2009-2024)\n",
    "# Group by year and calculate average median price\n",
    "yearly_prices = neighborhood_df.groupby('Stichtagdatjahr')['HAMedianPreis'].mean()\n",
    "\n",
    "# Plot yearly price trends\n",
    "plt.figure(figsize=(12, 6))\n",
    "yearly_prices.plot(kind='line', marker='o')\n",
    "plt.title('Average Median Property Price by Year')\n",
    "plt.xlabel('Year')\n",
    "plt.ylabel('Price (CHF)')\n",
    "plt.grid(True)\n",
    "plt.tight_layout()\n",
    "plt.show()"
   ]
  },
  {
   "cell_type": "markdown",
   "metadata": {},
   "source": [
    "## 6. Additional Insights"
   ]
  },
  {
   "cell_type": "code",
   "execution_count": null,
   "metadata": {},
   "source": [
    "# TODO: Calculate price per square meter (if available)\n",
    "# This will depend on the actual structure of the dataset\n",
    "# For now, we'll assume HAPreisWohnflaeche is the price per square meter\n",
    "\n",
    "# Check if the column exists\n",
    "if 'HAPreisWohnflaeche' in neighborhood_df.columns:\n",
    "    # Group by neighborhood and calculate average price per square meter\n",
    "    neighborhood_price_per_sqm = neighborhood_df.groupby('RaumLang')['HAPreisWohnflaeche'].mean().sort_values(ascending=False)\n",
    "    \n",
    "    # Plot neighborhood price per square meter\n",
    "    plt.figure(figsize=(12, 8))\n",
    "    neighborhood_price_per_sqm.plot(kind='bar')\n",
    "    plt.title('Average Price per Square Meter by Neighborhood')\n",
    "    plt.xlabel('Neighborhood')\n",
    "    plt.ylabel('Price per Square Meter (CHF)')\n",
    "    plt.xticks(rotation=45, ha='right')\n",
    "    plt.tight_layout()\n",
    "    plt.show()"
   ]
  },
  {
   "cell_type": "code",
   "execution_count": null,
   "metadata": {},
   "source": [
    "# TODO: Analyze correlations between features (if applicable)\n",
    "# This will depend on the actual structure of the dataset\n",
    "# For now, we'll use a subset of columns for demonstration\n",
    "\n",
    "# Select numeric columns for correlation analysis\n",
    "numeric_cols = ['Stichtagdatjahr', 'HAPreisWohnflaeche', 'HAMedianPreis']\n",
    "corr_matrix = neighborhood_df[numeric_cols].corr()\n",
    "\n",
    "# Plot correlation matrix\n",
    "plt.figure(figsize=(10, 8))\n",
    "sns.heatmap(corr_matrix, annot=True, cmap='coolwarm', fmt='.2f')\n",
    "plt.title('Correlation Matrix')\n",
    "plt.tight_layout()\n",
    "plt.show()"
   ]
  },
  {
   "cell_type": "markdown",
   "metadata": {},
   "source": [
    "## 7. Summary and Insights"
   ]
  },
  {
   "cell_type": "markdown",
   "metadata": {},
   "source": [
    "### Key Findings:\n",
    "\n",
    "1. **Neighborhood Analysis**:\n",
    "   - [Fill in observations about neighborhoods and prices]\n",
    "   - [Note any patterns or outliers]\n",
    "\n",
    "2. **Building Age Impact**:\n",
    "   - [Fill in observations about building age and prices]\n",
    "   - [Note any trends or patterns]\n",
    "\n",
    "3. **Room Count Analysis**:\n",
    "   - [Fill in observations about room counts and prices]\n",
    "   - [Note any patterns or trends]\n",
    "\n",
    "4. **Time Trends**:\n",
    "   - [Fill in observations about price trends over time]\n",
    "   - [Note any significant periods of growth or decline]\n",
    "\n",
    "### Next Steps:\n",
    "\n",
    "1. Generate travel time data using Google Maps API\n",
    "2. Clean and preprocess the datasets for modeling\n",
    "3. Engineer additional features based on insights from this EDA\n",
    "4. Develop baseline models for price prediction"
   ]
  }
 ],
 "metadata": {
  "kernelspec": {
   "display_name": "Python 3",
   "language": "python",
   "name": "python3"
  },
  "language_info": {
   "codemirror_mode": {
    "name": "ipython",
    "version": 3
   },
   "file_extension": ".py",
   "mimetype": "text/x-python",
   "name": "python",
   "nbconvert_exporter": "python",
   "pygments_lexer": "ipython3",
   "version": "3.8.10"
  }
 },
 "nbformat": 4,
 "nbformat_minor": 4
}
